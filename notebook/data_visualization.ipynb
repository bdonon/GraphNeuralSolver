{
 "cells": [
  {
   "cell_type": "code",
   "execution_count": 1,
   "metadata": {},
   "outputs": [
    {
     "name": "stdout",
     "output_type": "stream",
     "text": [
      "/Users/balthazardonon/Documents/PhD/Code/GraphNeuralSolver\n"
     ]
    }
   ],
   "source": [
    "# Change working directory\n",
    "%cd .."
   ]
  },
  {
   "cell_type": "code",
   "execution_count": 71,
   "metadata": {},
   "outputs": [],
   "source": [
    "import os\n",
    "\n",
    "import numpy as np\n",
    "import tensorflow as tf\n",
    "import networkx as nx\n",
    "import matplotlib.pyplot as plt\n",
    "\n",
    "np.set_printoptions(precision=3)"
   ]
  },
  {
   "cell_type": "code",
   "execution_count": 3,
   "metadata": {},
   "outputs": [],
   "source": [
    "data_directory = 'datasets/spring/default'\n",
    "mode = 'train'\n",
    "\n",
    "# Import numpy dataset\n",
    "A = np.load(os.path.join(data_directory, 'A_'+mode+'.npy'))\n",
    "B = np.load(os.path.join(data_directory, 'B_'+mode+'.npy'))\n",
    "X = np.load(os.path.join(data_directory, 'X_'+mode+'.npy'))"
   ]
  },
  {
   "cell_type": "markdown",
   "metadata": {},
   "source": [
    "## Data dimension"
   ]
  },
  {
   "cell_type": "markdown",
   "metadata": {},
   "source": [
    "We define $G = (A,B)$ to be a hypergraph. Let $n$ be the amount of nodes in the hypergraph. Each edge in $A$ is defined by a $d_{in,A}$-dimensional vector.\n",
    "\n",
    "\\begin{align}\n",
    "    A \\in ( \\mathbb{R}^{d_{in,A}} )^{n^2}\n",
    "\\end{align}\n",
    "\n",
    "Each node is defined by a $d_{in,B}$-dimensional vector.\n",
    "\n",
    "\\begin{align}\n",
    "    B \\in ( \\mathbb{R}^{d_{in,B}} )^{n^1}\n",
    "\\end{align}\n",
    "\n",
    "In the linear case, we have $d_{in,A}=1$ and $d_{in,B}=1$.Since $A$ is quite sparse in most of the problems we are actually interested in, we use a sparse description of it, as can be shown:"
   ]
  },
  {
   "cell_type": "code",
   "execution_count": 91,
   "metadata": {},
   "outputs": [
    {
     "name": "stdout",
     "output_type": "stream",
     "text": [
      "A has shape : (1000, 40, 3)\n",
      "B has shape : (1000, 10, 1)\n",
      "\n",
      "There are 1000 samples\n",
      "There are 40 directed edges per sample\n",
      "There are 10 nodes per sample\n",
      "\n",
      "The dimension of each edge is 1\n",
      "The dimension of each node is 1\n"
     ]
    }
   ],
   "source": [
    "print('A has shape : {}'.format(A.shape))\n",
    "print('B has shape : {}'.format(B.shape))\n",
    "print('')\n",
    "print('There are {} samples'.format(A.shape[0]))\n",
    "print('There are {} directed edges per sample'.format(A.shape[1]))\n",
    "print('There are {} nodes per sample'.format(B.shape[1]))\n",
    "print('')\n",
    "print('The dimension of each edge is {}'.format(A.shape[2]-2))\n",
    "print('The dimension of each node is {}'.format(B.shape[2]))"
   ]
  },
  {
   "cell_type": "markdown",
   "metadata": {},
   "source": [
    "## Matrix A"
   ]
  },
  {
   "cell_type": "markdown",
   "metadata": {},
   "source": [
    "The matrix A contains all the information about the interactions between nodes.\n",
    "\n",
    "Here is a typical sample of matrix $A$.\n",
    "Each row is defined by the tuple $(i, j, A_{ij})$. Since $A_{ij}$ has $d_{in,A}$-dimensions, this makes every row $(d_{in,A}+2)$-dimensional."
   ]
  },
  {
   "cell_type": "code",
   "execution_count": 86,
   "metadata": {},
   "outputs": [
    {
     "name": "stdout",
     "output_type": "stream",
     "text": [
      "[[ 1.     0.    -0.844]\n",
      " [ 2.     0.    -0.187]\n",
      " [ 3.     0.    -0.687]\n",
      " [ 4.     2.    -0.5  ]\n",
      " [ 5.     0.    -0.48 ]\n",
      " [ 6.     2.    -0.307]\n",
      " [ 7.     5.    -0.127]\n",
      " [ 8.     2.    -0.227]\n",
      " [ 9.     3.    -0.75 ]\n",
      " [ 4.     7.    -0.468]\n",
      " [ 4.     0.    -0.277]\n",
      " [ 2.     0.    -0.689]\n",
      " [ 7.     4.    -0.258]\n",
      " [ 2.     6.    -0.907]\n",
      " [ 8.     7.    -0.942]\n",
      " [ 0.     1.     0.   ]\n",
      " [ 0.     2.     0.   ]\n",
      " [ 0.     3.     0.   ]\n",
      " [ 2.     4.    -0.5  ]\n",
      " [ 0.     5.     0.   ]\n",
      " [ 2.     6.    -0.307]\n",
      " [ 5.     7.    -0.127]\n",
      " [ 2.     8.    -0.227]\n",
      " [ 3.     9.    -0.75 ]\n",
      " [ 7.     4.    -0.468]\n",
      " [ 0.     4.     0.   ]\n",
      " [ 0.     2.     0.   ]\n",
      " [ 4.     7.    -0.258]\n",
      " [ 6.     2.    -0.907]\n",
      " [ 7.     8.    -0.942]\n",
      " [ 0.     0.     1.   ]\n",
      " [ 1.     1.     0.844]\n",
      " [ 2.     2.     2.816]\n",
      " [ 3.     3.     1.437]\n",
      " [ 4.     4.     1.503]\n",
      " [ 5.     5.     0.608]\n",
      " [ 6.     6.     1.214]\n",
      " [ 7.     7.     1.795]\n",
      " [ 8.     8.     1.169]\n",
      " [ 9.     9.     0.75 ]]\n"
     ]
    }
   ],
   "source": [
    "print(A[0])"
   ]
  },
  {
   "cell_type": "code",
   "execution_count": 87,
   "metadata": {},
   "outputs": [],
   "source": [
    "def sparse_to_matrix(A_sample):\n",
    "    \"\"\"\n",
    "    Converts one sample from sparse to dense\n",
    "    \"\"\"\n",
    "    # Get number of nodes\n",
    "    n_nodes = int(np.max(A_sample[:,0:2]))+1\n",
    "    # Initialize zero matrix\n",
    "    A_mat = np.zeros([n_nodes, n_nodes])\n",
    "    # For each edge, add value\n",
    "    for edge in A_sample:\n",
    "        A_mat[int(edge[0]), int(edge[1])] += edge[2]\n",
    "    return A_mat\n",
    "A_mat = sparse_to_matrix(A[0])"
   ]
  },
  {
   "cell_type": "markdown",
   "metadata": {},
   "source": [
    "Here is the same object but represented as a dense matrix:"
   ]
  },
  {
   "cell_type": "code",
   "execution_count": 88,
   "metadata": {},
   "outputs": [
    {
     "name": "stdout",
     "output_type": "stream",
     "text": [
      "[[ 1.     0.     0.     0.     0.     0.     0.     0.     0.     0.   ]\n",
      " [-0.844  0.844  0.     0.     0.     0.     0.     0.     0.     0.   ]\n",
      " [-0.876  0.     2.816  0.    -0.5    0.    -1.214  0.    -0.227  0.   ]\n",
      " [-0.687  0.     0.     1.437  0.     0.     0.     0.     0.    -0.75 ]\n",
      " [-0.277  0.    -0.5    0.     1.503  0.     0.    -0.726  0.     0.   ]\n",
      " [-0.48   0.     0.     0.     0.     0.608  0.    -0.127  0.     0.   ]\n",
      " [ 0.     0.    -1.214  0.     0.     0.     1.214  0.     0.     0.   ]\n",
      " [ 0.     0.     0.     0.    -0.726 -0.127  0.     1.795 -0.942  0.   ]\n",
      " [ 0.     0.    -0.227  0.     0.     0.     0.    -0.942  1.169  0.   ]\n",
      " [ 0.     0.     0.    -0.75   0.     0.     0.     0.     0.     0.75 ]]\n"
     ]
    }
   ],
   "source": [
    "print(A_mat)"
   ]
  },
  {
   "cell_type": "markdown",
   "metadata": {},
   "source": [
    "And here is a graphical representation of this system. Note that the graph is drawn as undirected, while it is actually directed (see matrix above)"
   ]
  },
  {
   "cell_type": "code",
   "execution_count": 84,
   "metadata": {},
   "outputs": [
    {
     "data": {
      "image/png": "[encoded data removed]",
      "text/plain": [
       "<Figure size 432x288 with 1 Axes>"
      ]
     },
     "metadata": {},
     "output_type": "display_data"
    }
   ],
   "source": [
    "G=nx.from_numpy_matrix(A_mat)\n",
    "pos = nx.spring_layout(G)\n",
    "nx.draw(G, pos=pos)\n",
    "plt.show()"
   ]
  },
  {
   "cell_type": "markdown",
   "metadata": {},
   "source": [
    "## Matrix B"
   ]
  },
  {
   "cell_type": "markdown",
   "metadata": {},
   "source": [
    "Matrix $B$ is simpler than $A$. For each node, it contains a $d_{in,B}$-dimensional information.\n",
    "\n",
    "Here is a typical example of matrix $B$"
   ]
  },
  {
   "cell_type": "code",
   "execution_count": 90,
   "metadata": {},
   "outputs": [
    {
     "name": "stdout",
     "output_type": "stream",
     "text": [
      "[[6.319]\n",
      " [0.966]\n",
      " [0.254]\n",
      " [0.706]\n",
      " [0.33 ]\n",
      " [0.613]\n",
      " [0.735]\n",
      " [0.621]\n",
      " [0.183]\n",
      " [0.622]]\n"
     ]
    }
   ],
   "source": [
    "print(B[0])"
   ]
  },
  {
   "cell_type": "code",
   "execution_count": null,
   "metadata": {},
   "outputs": [],
   "source": []
  }
 ],
 "metadata": {
  "kernelspec": {
   "display_name": "Python 3",
   "language": "python",
   "name": "python3"
  },
  "language_info": {
   "codemirror_mode": {
    "name": "ipython",
    "version": 3
   },
   "file_extension": ".py",
   "mimetype": "text/x-python",
   "name": "python",
   "nbconvert_exporter": "python",
   "pygments_lexer": "ipython3",
   "version": "3.6.8"
  }
 },
 "nbformat": 4,
 "nbformat_minor": 4
}
